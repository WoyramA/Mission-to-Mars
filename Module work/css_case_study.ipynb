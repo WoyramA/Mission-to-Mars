{
 "cells": [
  {
   "cell_type": "code",
   "execution_count": 1,
   "id": "239ece00",
   "metadata": {},
   "outputs": [],
   "source": [
    "# import beautiful soup library\n",
    "from bs4 import BeautifulSoup as soup"
   ]
  },
  {
   "cell_type": "code",
   "execution_count": 2,
   "id": "6d6ef015",
   "metadata": {},
   "outputs": [],
   "source": [
    "html = \"\"\"\n",
    "<!DOCTYPE html>\n",
    "<html lang=\"en\">\n",
    "\n",
    "<head>\n",
    "    <meta charset=\"UTF-8\">\n",
    "    <meta http-equiv=\"X-UA-Compatible\" content=\"IE=edge\">\n",
    "    <meta name=\"viewport\" content=\"width=device-width, initial-scale=1.0\">\n",
    "    <title>Document</title>\n",
    "</head>\n",
    "\n",
    "<style>\n",
    "    .even {\n",
    "        color: blue;\n",
    "    }\n",
    "\n",
    "    .odd {\n",
    "        color: green;\n",
    "    }\n",
    "</style>\n",
    "\n",
    "<body>\n",
    "    <div>\n",
    "        <p class=\"odd\" id=\"first\">First</p>\n",
    "        <p class=\"even\" id=\"second\">Second</p>\n",
    "        <p class=\"odd\" id=\"third\">Third</p>\n",
    "    </div>\n",
    "\n",
    "    <div>\n",
    "        <p class=\"even\" id=\"fourth\">Fourth</p>\n",
    "        <p class=\"odd\" id=\"fifth\">Fifth</p>\n",
    "        <p class=\"even\" id=\"sixth\">Sixth</p>\n",
    "    </div>\n",
    "</body>\n",
    "\n",
    "</html>\n",
    "\"\"\""
   ]
  },
  {
   "cell_type": "code",
   "execution_count": 3,
   "id": "4d48a129",
   "metadata": {},
   "outputs": [],
   "source": [
    "# Assign the entire block of HTML code to the html variable as a string. \n",
    "html_soup = soup(html, 'html.parser')"
   ]
  },
  {
   "cell_type": "code",
   "execution_count": 4,
   "id": "4b9222d4",
   "metadata": {},
   "outputs": [],
   "source": [
    "#  use that object to choose and retrieve specific parts of the HTML code. Scrape all the paragraph elements that belong to the odd class \n",
    "# the find_all method returns all the results. And, this method takes two arguments: The first argument, \"p\", specifies that we're searching for paragraphs—that is, p elements.The second argument, class_=\"odd\", specifies that the elements must belong to the odd class.\n",
    "odds = html_soup.find_all(\"p\", class_=\"odd\")"
   ]
  },
  {
   "cell_type": "code",
   "execution_count": 5,
   "id": "f5b5cdc6",
   "metadata": {},
   "outputs": [
    {
     "name": "stdout",
     "output_type": "stream",
     "text": [
      "<p class=\"odd\" id=\"first\">First</p>\n",
      "<p class=\"odd\" id=\"third\">Third</p>\n",
      "<p class=\"odd\" id=\"fifth\">Fifth</p>\n"
     ]
    }
   ],
   "source": [
    "# iterate through the results and display them by using a for loop. \n",
    "for odd in odds:\n",
    "    print(odd)"
   ]
  },
  {
   "cell_type": "code",
   "execution_count": 6,
   "id": "704ab4ab",
   "metadata": {},
   "outputs": [
    {
     "name": "stdout",
     "output_type": "stream",
     "text": [
      "[<p class=\"odd\" id=\"first\">First</p>, <p class=\"even\" id=\"second\">Second</p>, <p class=\"odd\" id=\"third\">Third</p>, <p class=\"even\" id=\"fourth\">Fourth</p>, <p class=\"odd\" id=\"fifth\">Fifth</p>, <p class=\"even\" id=\"sixth\">Sixth</p>]\n",
      "[<p class=\"odd\" id=\"first\">First</p>, <p class=\"even\" id=\"second\">Second</p>, <p class=\"odd\" id=\"third\">Third</p>, <p class=\"even\" id=\"fourth\">Fourth</p>, <p class=\"odd\" id=\"fifth\">Fifth</p>, <p class=\"even\" id=\"sixth\">Sixth</p>]\n",
      "[<p class=\"odd\" id=\"first\">First</p>, <p class=\"even\" id=\"second\">Second</p>, <p class=\"odd\" id=\"third\">Third</p>, <p class=\"even\" id=\"fourth\">Fourth</p>, <p class=\"odd\" id=\"fifth\">Fifth</p>, <p class=\"even\" id=\"sixth\">Sixth</p>]\n",
      "[<p class=\"odd\" id=\"first\">First</p>, <p class=\"even\" id=\"second\">Second</p>, <p class=\"odd\" id=\"third\">Third</p>, <p class=\"even\" id=\"fourth\">Fourth</p>, <p class=\"odd\" id=\"fifth\">Fifth</p>, <p class=\"even\" id=\"sixth\">Sixth</p>]\n",
      "[<p class=\"odd\" id=\"first\">First</p>, <p class=\"even\" id=\"second\">Second</p>, <p class=\"odd\" id=\"third\">Third</p>, <p class=\"even\" id=\"fourth\">Fourth</p>, <p class=\"odd\" id=\"fifth\">Fifth</p>, <p class=\"even\" id=\"sixth\">Sixth</p>]\n"
     ]
    }
   ],
   "source": [
    "# Skill Drill\n",
    "# 1. Use a for loop to print only the text of each paragraph. You can do so by using the text attribute\n",
    "\n",
    "text = html_soup.find_all(\"p\")\n",
    "for p in html_soup:\n",
    "    print(text)"
   ]
  },
  {
   "cell_type": "code",
   "execution_count": 7,
   "id": "9d0cc844",
   "metadata": {
    "scrolled": true
   },
   "outputs": [
    {
     "name": "stdout",
     "output_type": "stream",
     "text": [
      "<p class=\"even\" id=\"second\">Second</p>\n",
      "<p class=\"even\" id=\"fourth\">Fourth</p>\n",
      "<p class=\"even\" id=\"sixth\">Sixth</p>\n"
     ]
    }
   ],
   "source": [
    "# Skill Drill\n",
    "#  Finally, try printing the text of all the p elements that belong to the even class.\n",
    "even = html_soup.find_all(\"p\", class_=\"even\")\n",
    "for p in even:\n",
    "    print(p)"
   ]
  },
  {
   "cell_type": "code",
   "execution_count": 8,
   "id": "99fc8e3a",
   "metadata": {},
   "outputs": [
    {
     "name": "stdout",
     "output_type": "stream",
     "text": [
      "First\n"
     ]
    }
   ],
   "source": [
    "# Part 2\n",
    "# scrape the text from a paragraph element that has an id of first\n",
    "first = html_soup.find(\"p\", id=\"first\")\n",
    "print(first.text)"
   ]
  },
  {
   "cell_type": "code",
   "execution_count": null,
   "id": "3652e809",
   "metadata": {},
   "outputs": [],
   "source": []
  }
 ],
 "metadata": {
  "kernelspec": {
   "display_name": "PythonData",
   "language": "python",
   "name": "pythondata"
  },
  "language_info": {
   "codemirror_mode": {
    "name": "ipython",
    "version": 3
   },
   "file_extension": ".py",
   "mimetype": "text/x-python",
   "name": "python",
   "nbconvert_exporter": "python",
   "pygments_lexer": "ipython3",
   "version": "3.7.13"
  }
 },
 "nbformat": 4,
 "nbformat_minor": 5
}
